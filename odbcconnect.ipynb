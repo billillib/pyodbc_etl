{
 "cells": [
  {
   "cell_type": "code",
   "execution_count": 14,
   "metadata": {
    "collapsed": true
   },
   "outputs": [],
   "source": [
    "import pandas as pd\n",
    "import pyodbc\n",
    "import getpass"
   ]
  },
  {
   "cell_type": "code",
   "execution_count": 16,
   "metadata": {},
   "outputs": [
    {
     "name": "stdout",
     "output_type": "stream",
     "text": [
      "········\n"
     ]
    }
   ],
   "source": [
    "# Create connection\n",
    "\n",
    "server = 'localhost'\n",
    "database = 'test'\n",
    "username = 'sa'\n",
    "password = getpass.getpass()\n",
    "cnxn = pyodbc.connect('DRIVER=/usr/local/lib/libmsodbcsql.17.dylib;SERVER='+server+';DATABASE='+database+';UID='+username+';PWD='+ password)\n",
    "cursor = cnxn.cursor()\n",
    "#cursor.execute(\"SELECT @@version;\")\n",
    "#row = cursor.fetchone()\n",
    "#while row:\n",
    "#    print(row)\n",
    "#    row = cursor.fetchone()\n"
   ]
  },
  {
   "cell_type": "markdown",
   "metadata": {
    "collapsed": true
   },
   "source": [
    "For a given CSV create the 'Create Table' script. "
   ]
  },
  {
   "cell_type": "code",
   "execution_count": 10,
   "metadata": {
    "collapsed": true
   },
   "outputs": [],
   "source": [
    "filename = 'dataquest/data/food_info.csv' #in config\n",
    "tablename = 'food_info' # string method needed\n",
    "df = pd.read_csv(filename)\n",
    "rows = df.shape[0] # to be inserted to a metadata col\n",
    "cols = df.shape[1]\n",
    "fields = df.columns\n",
    "\n",
    "\n",
    "#print(df.columns)"
   ]
  },
  {
   "cell_type": "code",
   "execution_count": 17,
   "metadata": {},
   "outputs": [
    {
     "data": {
      "text/plain": [
       "<pyodbc.Cursor at 0x11082b1b0>"
      ]
     },
     "execution_count": 17,
     "metadata": {},
     "output_type": "execute_result"
    }
   ],
   "source": [
    "sql = ''\n",
    "\n",
    "for counter, i in enumerate(fields):\n",
    "    sql = sql + ('['+i+']' + ' varchar(500),') + '\\n'\n",
    "    \n",
    "sql_create = 'CREATE TABLE ' + tablename + '(' + '\\n' + sql + '[meta_createdat] DATETIME DEFAULT GETDATE())'\n",
    "cursor.execute(sql_create)\n",
    "\n"
   ]
  },
  {
   "cell_type": "code",
   "execution_count": 18,
   "metadata": {
    "collapsed": true
   },
   "outputs": [],
   "source": [
    "cursor.commit()"
   ]
  },
  {
   "cell_type": "code",
   "execution_count": 19,
   "metadata": {
    "collapsed": true
   },
   "outputs": [],
   "source": [
    "cnxn.close()"
   ]
  },
  {
   "cell_type": "code",
   "execution_count": null,
   "metadata": {
    "collapsed": true
   },
   "outputs": [],
   "source": []
  }
 ],
 "metadata": {
  "kernelspec": {
   "display_name": "Python 3",
   "language": "python",
   "name": "python3"
  },
  "language_info": {
   "codemirror_mode": {
    "name": "ipython",
    "version": 3
   },
   "file_extension": ".py",
   "mimetype": "text/x-python",
   "name": "python",
   "nbconvert_exporter": "python",
   "pygments_lexer": "ipython3",
   "version": "3.6.2"
  }
 },
 "nbformat": 4,
 "nbformat_minor": 2
}
