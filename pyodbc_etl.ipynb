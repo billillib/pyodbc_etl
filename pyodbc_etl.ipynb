{
 "cells": [
  {
   "cell_type": "code",
   "execution_count": 1,
   "metadata": {
    "collapsed": true
   },
   "outputs": [],
   "source": [
    "import pandas as pd\n",
    "import pyodbc\n",
    "import getpass\n",
    "import yaml"
   ]
  },
  {
   "cell_type": "code",
   "execution_count": 2,
   "metadata": {
    "collapsed": true
   },
   "outputs": [],
   "source": [
    "with open('test.yaml','r') as f:\n",
    "    config = yaml.load(f)"
   ]
  },
  {
   "cell_type": "code",
   "execution_count": 3,
   "metadata": {},
   "outputs": [
    {
     "name": "stdout",
     "output_type": "stream",
     "text": [
      "········\n"
     ]
    }
   ],
   "source": [
    "# Create connection\n",
    "\n",
    "server = '0.0.0.0' #Weird this doesn't work with 'localhost'\n",
    "database = 'test'\n",
    "username = 'sa'\n",
    "password = getpass.getpass()\n",
    "cnxn = pyodbc.connect('DRIVER=/usr/local/lib/libmsodbcsql.17.dylib;SERVER='+server+';DATABASE='+database+';UID='+username+';PWD='+ password)\n",
    "cursor = cnxn.cursor()\n"
   ]
  },
  {
   "cell_type": "markdown",
   "metadata": {
    "collapsed": true
   },
   "source": [
    "For a given CSV create the 'Create Table' script. "
   ]
  },
  {
   "cell_type": "code",
   "execution_count": 4,
   "metadata": {},
   "outputs": [
    {
     "name": "stdout",
     "output_type": "stream",
     "text": [
      "36\n"
     ]
    }
   ],
   "source": [
    "filename = config[\"file\"][\"filename\"] #in config\n",
    "tablename = filename[str.rfind(filename,'/')+1:].replace('.','_') # to replace the filename -> file_name_csv\n",
    "df = pd.read_csv(filename)\n",
    "rows = df.shape[0] # to be inserted to a metadata col\n",
    "cols = df.shape[1]\n",
    "fields = df.columns\n",
    "\n",
    "print(cols)\n",
    "#print(df.columns)"
   ]
  },
  {
   "cell_type": "code",
   "execution_count": 5,
   "metadata": {
    "collapsed": true
   },
   "outputs": [],
   "source": [
    "sql = 'DROP TABLE IF EXISTS ' + tablename\n",
    "cursor.execute(sql)\n",
    "cursor.commit()"
   ]
  },
  {
   "cell_type": "code",
   "execution_count": 6,
   "metadata": {
    "collapsed": true
   },
   "outputs": [],
   "source": [
    "sql = ''\n",
    "\n",
    "for counter, field in enumerate(fields):\n",
    "    last_col = len(fields) - 1\n",
    "    if counter < last_col:\n",
    "        sql = sql + ('['+field+']' + ' varchar(500),') + '\\n'\n",
    "    else:\n",
    "        sql = sql + ('['+field+']' + ' varchar(500)')\n",
    "\n",
    "sql_create = 'CREATE TABLE ' + tablename + '(' + '\\n' + sql + ')'\n",
    "\n",
    "cursor.execute(sql_create)\n",
    "cursor.commit()\n"
   ]
  },
  {
   "cell_type": "code",
   "execution_count": 7,
   "metadata": {
    "collapsed": true
   },
   "outputs": [],
   "source": [
    "bulk_insert = 'BULK INSERT ' + tablename + ' FROM '\"'/food_info.csv'\"' WITH (FIELDTERMINATOR = '\"','\"',ROWTERMINATOR = '\"'0x0a'\"');'\n",
    "\n",
    "cursor.execute(bulk_insert)\n",
    "cursor.commit()\n"
   ]
  },
  {
   "cell_type": "code",
   "execution_count": 8,
   "metadata": {
    "collapsed": true
   },
   "outputs": [],
   "source": [
    "cnxn.close()"
   ]
  },
  {
   "cell_type": "code",
   "execution_count": null,
   "metadata": {
    "collapsed": true
   },
   "outputs": [],
   "source": []
  }
 ],
 "metadata": {
  "kernelspec": {
   "display_name": "Python 3",
   "language": "python",
   "name": "python3"
  },
  "language_info": {
   "codemirror_mode": {
    "name": "ipython",
    "version": 3
   },
   "file_extension": ".py",
   "mimetype": "text/x-python",
   "name": "python",
   "nbconvert_exporter": "python",
   "pygments_lexer": "ipython3",
   "version": "3.6.2"
  }
 },
 "nbformat": 4,
 "nbformat_minor": 2
}
